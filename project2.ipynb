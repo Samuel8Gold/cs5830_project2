{
 "cells": [
  {
   "cell_type": "code",
   "execution_count": null,
   "id": "8976ce0c",
   "metadata": {},
   "outputs": [],
   "source": [
    "import pandas as pd\n",
    "from matplotlib import pyplot as plt\n",
    "import seaborn as sns\n",
    "import scipy.stats as stats"
   ]
  },
  {
   "cell_type": "code",
   "execution_count": null,
   "id": "278e9089",
   "metadata": {},
   "outputs": [],
   "source": [
    "crimeDf = pd.read_csv(\"crime-housing-austin-2015.csv\")\n",
    "zipDf = pd.read_csv(\"AustinZipCodes.csv\")"
   ]
  },
  {
   "cell_type": "code",
   "execution_count": null,
   "id": "70c013c4",
   "metadata": {},
   "outputs": [],
   "source": [
    "display(crimeDf)\n",
    "display(crimeDf.columns)"
   ]
  },
  {
   "cell_type": "markdown",
   "id": "8feb821a",
   "metadata": {},
   "source": [
    "...I'm thinking of seeing if being richer means less crime. And if so, what is the threshold where crime rates go down.\n",
    "I will be doing this by comparing the different types of workers...\n",
    "\n",
    "I'm also thinking of seeing if being in a richer house means you get less clearances. I will also need to examine what type of crime was being committed.\n",
    "\n",
    "...This one seems more interesting \"I'm thinking of doing change in median home value vs. thief. Is it really worth getting a a house that you believe will go up in value a lot in the future?\n",
    "With this analysis I would also need to see if there is a coorelation between types of crimes\"..."
   ]
  },
  {
   "cell_type": "code",
   "execution_count": null,
   "id": "3602f34f",
   "metadata": {},
   "outputs": [],
   "source": [
    "# Get the Rental Units for teacher\n",
    "# Get the rental Units for tech worker\n",
    "# get the ownerunits for teacher\n",
    "# get the owner units for tech worker\n",
    "crimeDf['Medianrent'] = crimeDf['Medianrent'].str.replace('$', '').astype('float')\n",
    "# Set the maximum rent value\n",
    "max_rent = 2000\n",
    "\n",
    "# Initialize an empty dictionary to store the counts for each range\n",
    "rent_counts = {}\n",
    "\n",
    "# Iterate through each 300-dollar increment up to the maximum rent\n",
    "for rent_limit in range(700, max_rent + 100, 100):\n",
    "    # Create a key for the current range\n",
    "    key = f'{rent_limit - 100}to{rent_limit}'\n",
    "    \n",
    "    # Calculate the count for the current range\n",
    "    count = crimeDf[(crimeDf.Medianrent >= rent_limit - 100) & (crimeDf.Medianrent < rent_limit)].Medianrent.count()\n",
    "    \n",
    "    # Store the count in the dictionary\n",
    "    rent_counts[key] = count\n",
    "\n",
    "# Extract the keys and values from the rent_counts dictionary\n",
    "keys = list(rent_counts.keys())\n",
    "values = list(rent_counts.values())\n",
    "\n",
    "# Create a scatterplot using seaborn\n",
    "plt.figure(figsize=(10, 6))\n",
    "sns.scatterplot(x=keys, y=values, color='blue')\n",
    "plt.title('Crime Count vs. Median Rent')\n",
    "plt.xlabel('Median Rent Ranges')\n",
    "plt.ylabel('Crime Count')\n",
    "plt.xticks(rotation=45, ha='right')  # Rotate x-axis labels for better visibility\n",
    "plt.show()\n",
    "\n",
    "# sns.scatterplot(x=crimeDf.Medianrent, y=)\n",
    "# How do I seperate the data between a tech worker and a teacher? Maybe do it by median household income..."
   ]
  },
  {
   "cell_type": "code",
   "execution_count": null,
   "id": "8f3f28c3",
   "metadata": {},
   "outputs": [],
   "source": [
    "# Set the maximum rent value\n",
    "max_rent = 2000\n",
    "\n",
    "# Initialize an empty dictionary to store the counts for each range\n",
    "rent_counts = {}\n",
    "\n",
    "# Iterate through each 300-dollar increment up to the maximum rent\n",
    "for rent_limit in range(700, max_rent + 50, 50):\n",
    "    # Create a key for the current range\n",
    "    key = f'{rent_limit - 50}to{rent_limit}'\n",
    "    \n",
    "    # Calculate the count for the current range\n",
    "    count = crimeDf[(crimeDf.Medianrent >= rent_limit - 50) & (crimeDf.Medianrent < rent_limit)].Medianrent.count()\n",
    "    \n",
    "    # Store the count in the dictionary\n",
    "    rent_counts[key] = count\n",
    "\n",
    "# Extract the keys and values from the rent_counts dictionary\n",
    "keys = list(rent_counts.keys())\n",
    "values = list(rent_counts.values())\n",
    "\n",
    "# Create a scatterplot using seaborn\n",
    "plt.figure(figsize=(10, 6))\n",
    "sns.scatterplot(x=keys, y=values, color='blue')\n",
    "plt.title('Crime Count vs. Median Rent')\n",
    "plt.xlabel('Median Rent Ranges')\n",
    "plt.ylabel('Crime Count')\n",
    "plt.xticks(rotation=45, ha='right')  # Rotate x-axis labels for better visibility\n",
    "plt.show()"
   ]
  },
  {
   "cell_type": "code",
   "execution_count": null,
   "id": "edbb5d20",
   "metadata": {},
   "outputs": [],
   "source": [
    "weirdAnomoly = crimeDf[(crimeDf.Medianrent >= 1550) & (crimeDf.Medianrent < 1600)]\n",
    "weirdAnomoly.columns"
   ]
  },
  {
   "cell_type": "code",
   "execution_count": null,
   "id": "a98e3bb6",
   "metadata": {},
   "outputs": [],
   "source": [
    "weirdAnomoly.Zip_Code_Crime"
   ]
  },
  {
   "cell_type": "markdown",
   "id": "f6744d3a",
   "metadata": {},
   "source": [
    "I looked it up online and apparently For example, there are more retail establishments in the central part of the zip. Many crimes are committed in retail areas in blocks where few people live."
   ]
  },
  {
   "cell_type": "code",
   "execution_count": null,
   "id": "3cb30d2d",
   "metadata": {},
   "outputs": [],
   "source": [
    "# Set the maximum rent value\n",
    "max_rent = 1300\n",
    "\n",
    "# Initialize an empty dictionary to store the counts for each range\n",
    "rent_counts = {}\n",
    "keysForTTest = []\n",
    "# Iterate through each 300-dollar increment up to the maximum rent\n",
    "for rent_limit in range(700, max_rent + 20, 20):\n",
    "    # Create a key for the current range\n",
    "    key = f'{rent_limit - 20}to{rent_limit}'\n",
    "    keysForTTest.append(max_rent)\n",
    "    # Calculate the count for the current range\n",
    "    count = crimeDf[(crimeDf.Medianrent >= rent_limit - 20) & (crimeDf.Medianrent < rent_limit)].Medianrent.count()\n",
    "    \n",
    "    # Store the count in the dictionary\n",
    "    rent_counts[key] = count\n",
    "\n",
    "# Extract the keys and values from the rent_counts dictionary\n",
    "keys = list(rent_counts.keys())\n",
    "values = list(rent_counts.values())\n",
    "\n",
    "# Create a scatterplot using seaborn\n",
    "plt.figure(figsize=(10, 6))\n",
    "sns.scatterplot(x=keys, y=values, color='blue')\n",
    "plt.title('Crime Count vs. Median Rent')\n",
    "plt.xlabel('Median Rent Ranges')\n",
    "plt.ylabel('Crime Count')\n",
    "plt.xticks(rotation=45, ha='right')  # Rotate x-axis labels for better visibility\n",
    "plt.show()"
   ]
  },
  {
   "cell_type": "code",
   "execution_count": null,
   "id": "33f7c35e",
   "metadata": {},
   "outputs": [],
   "source": [
    "stats.ttest_ind(keysForTTest, values)"
   ]
  },
  {
   "cell_type": "markdown",
   "id": "2fbd6ccf",
   "metadata": {},
   "source": [
    "### Analysis\n",
    "There is pvalue after performing the ttest is greater than the .05 suggesting that there is not enough evidence to conclude the rent mean and the number of crimes commited are correlated.\n"
   ]
  },
  {
   "cell_type": "code",
   "execution_count": null,
   "id": "56c4e912",
   "metadata": {},
   "outputs": [],
   "source": [
    "# years = crimeDf.Report_Date\n",
    "crimeDf.columns = [c.replace('-', '') for c in crimeDf.columns]\n",
    "crimeDf['Changeinmedianhomevalue20002012'] = crimeDf['Changeinmedianhomevalue20002012'].str.replace('%', '').astype('float')\n",
    "display(crimeDf)\n",
    "# Set the maximum percentage\n",
    "max_percentage = 200\n",
    "\n",
    "# Initialize an empty dictionary to store the counts for each range\n",
    "rent_counts = {}\n",
    "keysForTTest = []\n",
    "# Iterate through each 300-dollar increment up to the maximum rent\n",
    "for the_percent in range(0, max_percentage + 20, 20):\n",
    "    # Create a key for the current range\n",
    "    key = f'{the_percent - 20}to{the_percent}'\n",
    "    keysForTTest.append(the_percent)\n",
    "    # Calculate the count for the current range\n",
    "    count = crimeDf[(crimeDf.Changeinmedianhomevalue20002012 >= the_percent - 20) & (crimeDf.Changeinmedianhomevalue20002012 < the_percent)].Changeinmedianhomevalue20002012.count()\n",
    "    \n",
    "    # Store the count in the dictionary\n",
    "    rent_counts[key] = count\n",
    "\n",
    "# Extract the keys and values from the rent_counts dictionary\n",
    "keys = list(rent_counts.keys())\n",
    "values = list(rent_counts.values())\n",
    "\n",
    "# Create a scatterplot using seaborn\n",
    "plt.figure(figsize=(10, 6))\n",
    "sns.scatterplot(x=keys, y=values, color='blue')\n",
    "plt.title('2000-2012 rent value changes')\n",
    "plt.xlabel('Percent Increased In Value')\n",
    "plt.ylabel('Crime Count')\n",
    "plt.xticks(rotation=45, ha='right')  # Rotate x-axis labels for better visibility\n",
    "plt.show() \n"
   ]
  },
  {
   "cell_type": "markdown",
   "id": "59285a84",
   "metadata": {},
   "source": [
    "According to google, there was a 58% average housing cost spike for all of 2000 to 2012, so now the comparison will now be to see if there is greater number of crimes with higher than average spikes"
   ]
  },
  {
   "cell_type": "code",
   "execution_count": null,
   "id": "c35cd011",
   "metadata": {},
   "outputs": [],
   "source": [
    "crimeDf.Changeinmedianhomevalue20002012.mean()"
   ]
  },
  {
   "cell_type": "markdown",
   "id": "ddcffe6f",
   "metadata": {},
   "source": [
    "Thjere is a big difference"
   ]
  },
  {
   "cell_type": "markdown",
   "id": "703bc516",
   "metadata": {},
   "source": [
    "Let's look at some more data! I'm curious about the number of crimes per council district and the number of crime per crime type:"
   ]
  },
  {
   "cell_type": "code",
   "execution_count": null,
   "id": "d458b7b0",
   "metadata": {},
   "outputs": [],
   "source": [
    "crime_distribution_by_district = crimeDf.groupby('Council_District').size().sort_values(ascending=False)\n",
    "\n",
    "# Create a bar plot using seaborn with each district being a different color\n",
    "plt.figure(figsize=(10, 6))\n",
    "sns.barplot(x=crime_distribution_by_district.index, y=crime_distribution_by_district.values, color='blue')\n",
    "plt.title('Crime Count by Council District')\n",
    "plt.xlabel('Council District')\n",
    "plt.ylabel('Crime Count')\n",
    "plt.show()\n"
   ]
  },
  {
   "cell_type": "code",
   "execution_count": null,
   "id": "b16e4505",
   "metadata": {},
   "outputs": [],
   "source": [
    "# create a bar plot of crime distribution by crime type\n",
    "crime_distribution_by_type = crimeDf['Highest_Offense_Desc'].value_counts().head(10)\n",
    "\n",
    "# Create a bar plot using seaborn with each district being a different color\n",
    "plt.figure(figsize=(10, 6))\n",
    "sns.barplot(x=crime_distribution_by_type.index, y=crime_distribution_by_type.values, color='blue')\n",
    "plt.title('Crime Count by Crime Type')\n",
    "plt.xlabel('Crime Type')\n",
    "plt.ylabel('Crime Count')\n",
    "plt.xticks(rotation=90, ha='right')  # Rotate x-axis labels for better visibility\n",
    "plt.show()"
   ]
  },
  {
   "cell_type": "markdown",
   "id": "be01f420",
   "metadata": {},
   "source": [
    "I wonder if crimes are evenly spaced throughout the year?"
   ]
  },
  {
   "cell_type": "code",
   "execution_count": null,
   "id": "08faa858",
   "metadata": {},
   "outputs": [],
   "source": [
    "# Ensure 'Report_Date' is in datetime format\n",
    "crimeDf['Report_Date'] = pd.to_datetime(crimeDf['Report_Date'], errors='coerce')\n",
    "\n",
    "# Aggregate data to count crimes by date\n",
    "daily_crime_counts = crimeDf.groupby('Report_Date').size().reset_index(name='Crime_Count')\n",
    "\n",
    "# Create the line plot\n",
    "plt.figure(figsize=(12, 6))  # Set the figure size for better readability\n",
    "sns.lineplot(x='Report_Date', y='Crime_Count', data=daily_crime_counts)\n",
    "plt.title('Number of Crimes by Date in 2015')\n",
    "plt.xlabel('Date')\n",
    "plt.ylabel('Number of Crimes')\n",
    "plt.xticks(rotation=45)  # Rotate the x-axis labels for better readability\n",
    "plt.show()\n",
    "\n",
    "# Group by month and count crimes\n",
    "monthly_crime_counts = crimeDf.resample('M', on='Report_Date').size().reset_index(name='Crime_Count')\n",
    "\n",
    "# Convert 'Report_Date' to month names for easy plotting\n",
    "monthly_crime_counts['Month'] = monthly_crime_counts['Report_Date'].dt.strftime('%b')\n",
    "\n",
    "# Ensure the data is sorted by date (if not already) to plot in chronological order\n",
    "monthly_crime_counts.sort_values(by='Report_Date', inplace=True)\n",
    "\n",
    "# Create the line plot using month names as the x-axis\n",
    "plt.figure(figsize=(12, 6))\n",
    "sns.lineplot(x='Month', y='Crime_Count', data=monthly_crime_counts)\n",
    "plt.title('Number of Crimes by Month in 2015')\n",
    "plt.xlabel('Month')\n",
    "plt.ylabel('Number of Crimes')\n",
    "plt.xticks(rotation=45)  # Optional: Rotate the x-axis labels for better readability\n",
    "plt.show()\n"
   ]
  },
  {
   "cell_type": "markdown",
   "id": "de4a375b",
   "metadata": {},
   "source": [
    "what might a heat map of this data look like?"
   ]
  },
  {
   "cell_type": "code",
   "execution_count": null,
   "id": "94f12ce2",
   "metadata": {},
   "outputs": [],
   "source": [
    "# Extract day and month from 'Report_Date'\n",
    "crimeDf['Day'] = crimeDf['Report_Date'].dt.day\n",
    "crimeDf['Month'] = crimeDf['Report_Date'].dt.month\n",
    "\n",
    "# Create a pivot table\n",
    "pivot_table_crimes = crimeDf.pivot_table(index='Day', columns='Month', values='Key', aggfunc='count', fill_value=0)\n",
    "\n",
    "# Generate the heatmap\n",
    "plt.figure(figsize=(12, 9))  # Adjust the size as needed\n",
    "ax = sns.heatmap(pivot_table_crimes, cmap=\"Reds\", annot=True, fmt=\"d\")\n",
    "plt.title('Daily Crime Counts by Month')\n",
    "plt.xlabel('Month')\n",
    "plt.ylabel('Day of Month')\n",
    "\n",
    "# Invert the y-axis to have the day 1 at the bottom and 31 at the top\n",
    "ax.invert_yaxis()\n",
    "\n",
    "# Customize the x-axis with month names\n",
    "month_names = ['Jan', 'Feb', 'Mar', 'Apr', 'May', 'Jun', 'Jul', 'Aug', 'Sep', 'Oct', 'Nov', 'Dec']\n",
    "plt.xticks(ticks=range(len(pivot_table_crimes.columns)), labels=month_names)\n",
    "plt.show()\n"
   ]
  }
 ],
 "metadata": {
  "kernelspec": {
   "display_name": "Python 3 (ipykernel)",
   "language": "python",
   "name": "python3"
  },
  "language_info": {
   "codemirror_mode": {
    "name": "ipython",
    "version": 3
   },
   "file_extension": ".py",
   "mimetype": "text/x-python",
   "name": "python",
   "nbconvert_exporter": "python",
   "pygments_lexer": "ipython3",
   "version": "3.10.4"
  }
 },
 "nbformat": 4,
 "nbformat_minor": 5
}
