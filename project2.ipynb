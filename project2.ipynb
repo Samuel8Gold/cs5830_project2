{
 "cells": [
  {
   "cell_type": "code",
   "execution_count": null,
   "id": "8976ce0c",
   "metadata": {},
   "outputs": [],
   "source": [
    "import pandas as pd\n",
    "from matplotlib import pyplot as plt\n",
    "import seaborn as sns"
   ]
  },
  {
   "cell_type": "code",
   "execution_count": null,
   "id": "fc3b0a46",
   "metadata": {},
   "outputs": [],
   "source": [
    "crimeDf = pd.read_csv(\"crime-housing-austin-2015.csv\")\n",
    "zipDf = pd.read_csv(\"AustinZipCodes.csv\")"
   ]
  },
  {
   "cell_type": "code",
   "execution_count": null,
   "id": "efcb68b4",
   "metadata": {},
   "outputs": [],
   "source": [
    "di"
   ]
  }
 ],
 "metadata": {
  "kernelspec": {
   "display_name": "Python 3 (ipykernel)",
   "language": "python",
   "name": "python3"
  },
  "language_info": {
   "codemirror_mode": {
    "name": "ipython",
    "version": 3
   },
   "file_extension": ".py",
   "mimetype": "text/x-python",
   "name": "python",
   "nbconvert_exporter": "python",
   "pygments_lexer": "ipython3",
   "version": "3.9.12"
  }
 },
 "nbformat": 4,
 "nbformat_minor": 5
}
